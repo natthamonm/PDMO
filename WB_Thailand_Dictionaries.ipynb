{
  "nbformat": 4,
  "nbformat_minor": 0,
  "metadata": {
    "kernelspec": {
      "display_name": "Python 3",
      "language": "python",
      "name": "python3"
    },
    "language_info": {
      "codemirror_mode": {
        "name": "ipython",
        "version": 3
      },
      "file_extension": ".py",
      "mimetype": "text/x-python",
      "name": "python",
      "nbconvert_exporter": "python",
      "pygments_lexer": "ipython3",
      "version": "3.6.0"
    },
    "colab": {
      "name": "Copy of _WB_Thailand_Dictionaries.ipynb",
      "provenance": [],
      "collapsed_sections": [
        "8Y2NdQbFT9Z7",
        "AOvig7yBMLqm",
        "mJXBnj5lQCLi",
        "2_IAXpn5RTgJ",
        "tDaY8rtl38N6"
      ],
      "include_colab_link": true
    }
  },
  "cells": [
    {
      "cell_type": "markdown",
      "metadata": {
        "id": "view-in-github",
        "colab_type": "text"
      },
      "source": [
        "<a href=\"https://colab.research.google.com/github/natthamonm/PDMO/blob/main/WB_Thailand_Dictionaries.ipynb\" target=\"_parent\"><img src=\"https://colab.research.google.com/assets/colab-badge.svg\" alt=\"Open In Colab\"/></a>"
      ]
    },
    {
      "cell_type": "markdown",
      "metadata": {
        "id": "_00Uyfuf38Nj"
      },
      "source": [
        "# **The dictionary data type** (also known as 'dict')\n",
        "----"
      ]
    },
    {
      "cell_type": "markdown",
      "metadata": {
        "id": "8Y2NdQbFT9Z7"
      },
      "source": [
        "## **What is a 'dictionary' in Python?**"
      ]
    },
    {
      "cell_type": "markdown",
      "metadata": {
        "collapsed": false,
        "id": "slEF0pGM38Nl"
      },
      "source": [
        "A dictionary is a set of (__key: value__) pairs:\n",
        "\n",
        "* __Keys__ must be unique (and 'immutable'). Typically, they are strings.\n",
        "* __Values__ can be anything, including e.g. another dict \n",
        "\n",
        "(In some other programming languages, the concept of a dictionary is called a 'map' or a 'hash'.)"
      ]
    },
    {
      "cell_type": "code",
      "metadata": {
        "id": "LK6gXOOeN_42"
      },
      "source": [
        "from datetime import date"
      ],
      "execution_count": 19,
      "outputs": []
    },
    {
      "cell_type": "markdown",
      "metadata": {
        "id": "AOvig7yBMLqm"
      },
      "source": [
        "## **Why dictionaries?**"
      ]
    },
    {
      "cell_type": "markdown",
      "metadata": {
        "id": "ESoLolbRUSXY"
      },
      "source": [
        "With lists, we access elements by their numerical index, e.g. L[2]. Often it is convenient to retrieve elements of a collection using a meaningful key instead.\n",
        "\n",
        "In the case of our debt management application, we might be interested to look up bonds according to their symbol (or ISIN)."
      ]
    },
    {
      "cell_type": "code",
      "metadata": {
        "id": "204CKSuxNDpt"
      },
      "source": [
        "bond_dict = dict(LB29DA={'maturity': date(2029, 12, 17), 'coupon': 0.016}, \\\n",
        "                 LB386A={'maturity': date(2038, 6, 17), 'coupon': 0.033})"
      ],
      "execution_count": 20,
      "outputs": []
    },
    {
      "cell_type": "markdown",
      "metadata": {
        "id": "TLUYp6G8N3MX"
      },
      "source": [
        "Now, we can conveniently look up the information we are interested in by using meaningful keys:"
      ]
    },
    {
      "cell_type": "code",
      "metadata": {
        "id": "AFTWeZEKODNJ",
        "outputId": "2f9daa24-792e-4acc-c685-9af1e28548a0",
        "colab": {
          "base_uri": "https://localhost:8080/",
          "height": 34
        }
      },
      "source": [
        "bond_dict['LB386A']['coupon']"
      ],
      "execution_count": 21,
      "outputs": [
        {
          "output_type": "execute_result",
          "data": {
            "text/plain": [
              "0.033"
            ]
          },
          "metadata": {
            "tags": []
          },
          "execution_count": 21
        }
      ]
    },
    {
      "cell_type": "markdown",
      "metadata": {
        "id": "lLQ4kNWrOOtq"
      },
      "source": [
        "Contrast this with the situation where we use lists:"
      ]
    },
    {
      "cell_type": "code",
      "metadata": {
        "id": "nRwrYePaOV7O"
      },
      "source": [
        "bond_list = [[date(2029, 12, 17), 0.016], [date(2038, 6, 17), 0.033]]"
      ],
      "execution_count": 22,
      "outputs": []
    },
    {
      "cell_type": "markdown",
      "metadata": {
        "id": "xAHXFGZmOlzh"
      },
      "source": [
        "We can extract the same information, but the indices are not very human friendly (we have to remember, for example, that coupon in the last entry in the nested lists):"
      ]
    },
    {
      "cell_type": "markdown",
      "metadata": {
        "id": "tTcNlGvqPJDT"
      },
      "source": [
        "Using lists for this purpose makes your code hard to read and very error-prone (it is quite easy to get an index wrong...)"
      ]
    },
    {
      "cell_type": "markdown",
      "metadata": {
        "id": "mJXBnj5lQCLi"
      },
      "source": [
        "## **Dictionaries in a bit more detail**"
      ]
    },
    {
      "cell_type": "code",
      "metadata": {
        "id": "8HGMe0yZQb6v",
        "outputId": "1fb63728-c282-41f5-edfb-825118e852c7",
        "colab": {
          "base_uri": "https://localhost:8080/",
          "height": 34
        }
      },
      "source": [
        "# Define a very simple dict using curly braces\n",
        "\n",
        "d = {'Thailand': 'Bangkok', 'Denmark': 'Copenhagen'}\n",
        "d"
      ],
      "execution_count": 5,
      "outputs": [
        {
          "output_type": "execute_result",
          "data": {
            "text/plain": [
              "{'Denmark': 'Copenhagen', 'Thailand': 'Bangkok'}"
            ]
          },
          "metadata": {
            "tags": []
          },
          "execution_count": 5
        }
      ]
    },
    {
      "cell_type": "code",
      "metadata": {
        "id": "vFuADrJJQr-X",
        "outputId": "9a3aec53-5fd8-4f5d-dbff-78c3874fa2ec",
        "colab": {
          "base_uri": "https://localhost:8080/",
          "height": 34
        }
      },
      "source": [
        "# Define the exact same dict using the 'dict' keyword\n",
        "\n",
        "d = dict(Thailand='Bangkok', Denmark='Copenhagen')\n",
        "d"
      ],
      "execution_count": 24,
      "outputs": [
        {
          "output_type": "execute_result",
          "data": {
            "text/plain": [
              "{'Denmark': 'Copenhagen', 'Thailand': 'Bangkok'}"
            ]
          },
          "metadata": {
            "tags": []
          },
          "execution_count": 24
        }
      ]
    },
    {
      "cell_type": "code",
      "metadata": {
        "id": "N-t2qfJNaHmS"
      },
      "source": [
        "d['Thailand']='bkk'"
      ],
      "execution_count": 30,
      "outputs": []
    },
    {
      "cell_type": "code",
      "metadata": {
        "id": "Xwf3WU3daNUL",
        "outputId": "c8233564-b8fc-4cf4-8649-e538223c5f12",
        "colab": {
          "base_uri": "https://localhost:8080/",
          "height": 34
        }
      },
      "source": [
        "d"
      ],
      "execution_count": 31,
      "outputs": [
        {
          "output_type": "execute_result",
          "data": {
            "text/plain": [
              "{'Denmark': 'Copenhagen', 'France': 'Paris', 'Thailand': 'bkk'}"
            ]
          },
          "metadata": {
            "tags": []
          },
          "execution_count": 31
        }
      ]
    },
    {
      "cell_type": "markdown",
      "metadata": {
        "id": "jsadGA-TQ8QF"
      },
      "source": [
        "Note the changes when using the dict keyword:\n",
        "* no quotation marks around keys\n",
        "* use equal sign (=) instead of colon (:) between keys and values"
      ]
    },
    {
      "cell_type": "code",
      "metadata": {
        "id": "MJ8WnkokSMHE",
        "outputId": "cad7f274-379d-4e18-e933-fd49c566560c",
        "colab": {
          "base_uri": "https://localhost:8080/",
          "height": 34
        }
      },
      "source": [
        "# Add a new element to a dictionary\n",
        "\n",
        "d['France'] = 'Paris'\n",
        "d"
      ],
      "execution_count": 25,
      "outputs": [
        {
          "output_type": "execute_result",
          "data": {
            "text/plain": [
              "{'Denmark': 'Copenhagen', 'France': 'Paris', 'Thailand': 'Bangkok'}"
            ]
          },
          "metadata": {
            "tags": []
          },
          "execution_count": 25
        }
      ]
    },
    {
      "cell_type": "code",
      "metadata": {
        "id": "NsvROKlMS1kT",
        "outputId": "20c271f9-488f-41a2-b640-ee320d5935fc",
        "colab": {
          "base_uri": "https://localhost:8080/",
          "height": 34
        }
      },
      "source": [
        "# A (key, value)-pair can be removed with the 'pop' method\n",
        "\n",
        "d.pop('Denmark')\n",
        "d"
      ],
      "execution_count": 8,
      "outputs": [
        {
          "output_type": "execute_result",
          "data": {
            "text/plain": [
              "{'France': 'Paris', 'Thailand': 'Bangkok'}"
            ]
          },
          "metadata": {
            "tags": []
          },
          "execution_count": 8
        }
      ]
    },
    {
      "cell_type": "code",
      "metadata": {
        "id": "1M5fsEs2TFCc",
        "outputId": "f72210ba-44d2-42a5-ce44-7fe2fb482b0d",
        "colab": {
          "base_uri": "https://localhost:8080/",
          "height": 84
        }
      },
      "source": [
        "# Two dictionaries can be combined with the 'update' method\n",
        "\n",
        "d1 = dict(Thailand='Bangkok', Denmark='Copenhagen')\n",
        "d2 = dict(Colombia='Bogota', France='Paris')\n",
        "\n",
        "d1.update(d2)\n",
        "d1"
      ],
      "execution_count": 9,
      "outputs": [
        {
          "output_type": "execute_result",
          "data": {
            "text/plain": [
              "{'Colombia': 'Bogota',\n",
              " 'Denmark': 'Copenhagen',\n",
              " 'France': 'Paris',\n",
              " 'Thailand': 'Bangkok'}"
            ]
          },
          "metadata": {
            "tags": []
          },
          "execution_count": 9
        }
      ]
    },
    {
      "cell_type": "markdown",
      "metadata": {
        "id": "2_IAXpn5RTgJ"
      },
      "source": [
        "### **Nested dicts**: the bond example again"
      ]
    },
    {
      "cell_type": "code",
      "metadata": {
        "id": "97jGjAfH38Nm",
        "outputId": "d26a8cb8-c2ae-4b83-bde1-30ada7ac184b",
        "colab": {
          "base_uri": "https://localhost:8080/",
          "height": 50
        }
      },
      "source": [
        "# Specify a dict using curly braces\n",
        "\n",
        "d = {'LB29DA': {'maturity': date(2029, 12, 17), 'coupon': 0.016}, \\\n",
        "     'LB386A': {'maturity': date(2038, 6, 17), 'coupon': 0.033}}\n",
        "\n",
        "print(d)\n",
        "type(d)"
      ],
      "execution_count": 10,
      "outputs": [
        {
          "output_type": "stream",
          "text": [
            "{'LB29DA': {'maturity': datetime.date(2029, 12, 17), 'coupon': 0.016}, 'LB386A': {'maturity': datetime.date(2038, 6, 17), 'coupon': 0.033}}\n"
          ],
          "name": "stdout"
        },
        {
          "output_type": "execute_result",
          "data": {
            "text/plain": [
              "dict"
            ]
          },
          "metadata": {
            "tags": []
          },
          "execution_count": 10
        }
      ]
    },
    {
      "cell_type": "code",
      "metadata": {
        "id": "60cC9lFp38Nr",
        "outputId": "cc0213da-245a-4cb1-d847-0ac60ca14d30",
        "colab": {
          "base_uri": "https://localhost:8080/",
          "height": 50
        }
      },
      "source": [
        "# Or - equivalently - using the 'dict' keyword\n",
        "\n",
        "d = dict(LB29DA=dict(maturity=date(2029, 12, 17), coupon=0.016), \\\n",
        "         LB386A=dict(maturity=date(2038, 6, 17), coupon=0.033))\n",
        "\n",
        "print(d)\n",
        "type(d)"
      ],
      "execution_count": 11,
      "outputs": [
        {
          "output_type": "stream",
          "text": [
            "{'LB29DA': {'maturity': datetime.date(2029, 12, 17), 'coupon': 0.016}, 'LB386A': {'maturity': datetime.date(2038, 6, 17), 'coupon': 0.033}}\n"
          ],
          "name": "stdout"
        },
        {
          "output_type": "execute_result",
          "data": {
            "text/plain": [
              "dict"
            ]
          },
          "metadata": {
            "tags": []
          },
          "execution_count": 11
        }
      ]
    },
    {
      "cell_type": "code",
      "metadata": {
        "id": "QsnsmBXG38Nv",
        "outputId": "0e52281a-2bbf-4c5a-9174-2349f4c7befa",
        "colab": {
          "base_uri": "https://localhost:8080/",
          "height": 34
        }
      },
      "source": [
        "d.keys()"
      ],
      "execution_count": 12,
      "outputs": [
        {
          "output_type": "execute_result",
          "data": {
            "text/plain": [
              "dict_keys(['LB29DA', 'LB386A'])"
            ]
          },
          "metadata": {
            "tags": []
          },
          "execution_count": 12
        }
      ]
    },
    {
      "cell_type": "code",
      "metadata": {
        "id": "2gsRxbuD38N0",
        "outputId": "ec031496-8e2e-4320-8408-3da728572306",
        "colab": {
          "base_uri": "https://localhost:8080/",
          "height": 34
        }
      },
      "source": [
        "d.values()"
      ],
      "execution_count": 13,
      "outputs": [
        {
          "output_type": "execute_result",
          "data": {
            "text/plain": [
              "dict_values([{'maturity': datetime.date(2029, 12, 17), 'coupon': 0.016}, {'maturity': datetime.date(2038, 6, 17), 'coupon': 0.033}])"
            ]
          },
          "metadata": {
            "tags": []
          },
          "execution_count": 13
        }
      ]
    },
    {
      "cell_type": "code",
      "metadata": {
        "id": "aQn-eWLU38N3",
        "outputId": "a1ff0da8-635a-4ea4-b68c-dea13d8b20ec",
        "colab": {
          "base_uri": "https://localhost:8080/",
          "height": 34
        }
      },
      "source": [
        "# Get the value corresponding to a key\n",
        "d['LB29DA']"
      ],
      "execution_count": 14,
      "outputs": [
        {
          "output_type": "execute_result",
          "data": {
            "text/plain": [
              "{'coupon': 0.016, 'maturity': datetime.date(2029, 12, 17)}"
            ]
          },
          "metadata": {
            "tags": []
          },
          "execution_count": 14
        }
      ]
    },
    {
      "cell_type": "markdown",
      "metadata": {
        "id": "tDaY8rtl38N6"
      },
      "source": [
        "#### <font color='steelblue'>**Exercise 1**</font>\n",
        "1. Create a dictionary called \"my_dict\" countaining the countries Thailand, Denmark, Australia as keys, and the ISO codes for their currencies (e.g. 'THB') as values. Define the dict using either curly braces or the ``dict`` command.\n",
        "1. Print \"my_dict\" to the screen with print(). Does the order of the elements match how your entered them?\n",
        "1. Extract the currency of Australia from the dictionary\n",
        "1. Extract the keys from the dictionary as a list\n",
        "1. Extract the values from the dictionary as a list"
      ]
    },
    {
      "cell_type": "code",
      "metadata": {
        "id": "iTqXHpFnbj81",
        "outputId": "ad8a41c1-3dc5-4415-9fc4-06c42e866298",
        "colab": {
          "base_uri": "https://localhost:8080/",
          "height": 34
        }
      },
      "source": [
        "my_dict = {'Thailand':'THB','Denmark':'DKK','Australia':'AUS'}\n",
        "my_dict"
      ],
      "execution_count": 33,
      "outputs": [
        {
          "output_type": "execute_result",
          "data": {
            "text/plain": [
              "{'Australia': 'AUS', 'Denmark': 'DKK', 'Thailand': 'THB'}"
            ]
          },
          "metadata": {
            "tags": []
          },
          "execution_count": 33
        }
      ]
    },
    {
      "cell_type": "code",
      "metadata": {
        "id": "9iiO7aj5cGaz",
        "outputId": "84a7bd32-857b-4fd6-a614-f5a37c98c2da",
        "colab": {
          "base_uri": "https://localhost:8080/",
          "height": 35
        }
      },
      "source": [
        "my_dict['Australia']"
      ],
      "execution_count": 34,
      "outputs": [
        {
          "output_type": "execute_result",
          "data": {
            "application/vnd.google.colaboratory.intrinsic+json": {
              "type": "string"
            },
            "text/plain": [
              "'AUS'"
            ]
          },
          "metadata": {
            "tags": []
          },
          "execution_count": 34
        }
      ]
    },
    {
      "cell_type": "code",
      "metadata": {
        "id": "X2OhMLmUcIRd",
        "outputId": "4c66beb0-e746-4d69-ecfb-5ab83e901311",
        "colab": {
          "base_uri": "https://localhost:8080/",
          "height": 34
        }
      },
      "source": [
        "my_dict.keys()"
      ],
      "execution_count": 36,
      "outputs": [
        {
          "output_type": "execute_result",
          "data": {
            "text/plain": [
              "dict_keys(['Thailand', 'Denmark', 'Australia'])"
            ]
          },
          "metadata": {
            "tags": []
          },
          "execution_count": 36
        }
      ]
    },
    {
      "cell_type": "code",
      "metadata": {
        "id": "5QM5RtqLcIZL",
        "outputId": "16adec8c-b96b-42a3-878c-700bdf2ec4f2",
        "colab": {
          "base_uri": "https://localhost:8080/",
          "height": 34
        }
      },
      "source": [
        "my_dict.values()"
      ],
      "execution_count": 38,
      "outputs": [
        {
          "output_type": "execute_result",
          "data": {
            "text/plain": [
              "dict_values(['THB', 'DKK', 'AUS'])"
            ]
          },
          "metadata": {
            "tags": []
          },
          "execution_count": 38
        }
      ]
    },
    {
      "cell_type": "markdown",
      "metadata": {
        "id": "1l0mvlLfKoDV"
      },
      "source": [
        "### Combining lists of keys and values into a dictionary"
      ]
    },
    {
      "cell_type": "code",
      "metadata": {
        "id": "p8bt5PBZ38N-",
        "outputId": "22ac8e41-a69f-4fab-fac0-b19a22a3c088",
        "colab": {
          "base_uri": "https://localhost:8080/",
          "height": 34
        }
      },
      "source": [
        "# Typical situation: we have two separate lists with keys and values and want to\n",
        "# create a dictionary from them\n",
        "\n",
        "# Combine keys and values with 'zip'\n",
        "# One possible use case: short variable names vs. legible legends for charts\n",
        "\n",
        "tickers = ['AAPL', 'LMT', 'TSLA']\n",
        "names = ['Apple Inc.', 'Lockheed Martin Corporation', 'Tesla Motors Inc.']\n",
        "\n",
        "zip(tickers, names) # Returns a so-called iterator"
      ],
      "execution_count": 15,
      "outputs": [
        {
          "output_type": "execute_result",
          "data": {
            "text/plain": [
              "<zip at 0x7f2c68c4e588>"
            ]
          },
          "metadata": {
            "tags": []
          },
          "execution_count": 15
        }
      ]
    },
    {
      "cell_type": "code",
      "metadata": {
        "id": "zZyGUVIL38OC",
        "outputId": "3beeaad1-d48c-4377-ea8f-f174bfc14f4b",
        "colab": {
          "base_uri": "https://localhost:8080/",
          "height": 67
        }
      },
      "source": [
        "# Inspect it by turning the iterator into a list\n",
        "list(zip(tickers, names))"
      ],
      "execution_count": 16,
      "outputs": [
        {
          "output_type": "execute_result",
          "data": {
            "text/plain": [
              "[('AAPL', 'Apple Inc.'),\n",
              " ('LMT', 'Lockheed Martin Corporation'),\n",
              " ('TSLA', 'Tesla Motors Inc.')]"
            ]
          },
          "metadata": {
            "tags": []
          },
          "execution_count": 16
        }
      ]
    },
    {
      "cell_type": "code",
      "metadata": {
        "id": "uwimJF7038OF",
        "outputId": "7dc79174-ddd7-4e2c-e4fc-e71db7930de8",
        "colab": {
          "base_uri": "https://localhost:8080/",
          "height": 67
        }
      },
      "source": [
        "# Create a dictionary\n",
        "d1 = dict(zip(tickers, names))\n",
        "d1"
      ],
      "execution_count": 17,
      "outputs": [
        {
          "output_type": "execute_result",
          "data": {
            "text/plain": [
              "{'AAPL': 'Apple Inc.',\n",
              " 'LMT': 'Lockheed Martin Corporation',\n",
              " 'TSLA': 'Tesla Motors Inc.'}"
            ]
          },
          "metadata": {
            "tags": []
          },
          "execution_count": 17
        }
      ]
    },
    {
      "cell_type": "code",
      "metadata": {
        "id": "b06FLsq038OI",
        "outputId": "27378edf-bc9c-4532-d382-c6f0326e83b2",
        "colab": {
          "base_uri": "https://localhost:8080/",
          "height": 179
        }
      },
      "source": [
        "# When a key does not exist: key error\n",
        "d1['LNT'] # This will raise a 'KeyError'"
      ],
      "execution_count": 45,
      "outputs": [
        {
          "output_type": "error",
          "ename": "KeyError",
          "evalue": "ignored",
          "traceback": [
            "\u001b[0;31m---------------------------------------------------------------------------\u001b[0m",
            "\u001b[0;31mKeyError\u001b[0m                                  Traceback (most recent call last)",
            "\u001b[0;32m<ipython-input-45-bdbebc1266d4>\u001b[0m in \u001b[0;36m<module>\u001b[0;34m()\u001b[0m\n\u001b[1;32m      1\u001b[0m \u001b[0;31m# When a key does not exist: key error\u001b[0m\u001b[0;34m\u001b[0m\u001b[0;34m\u001b[0m\u001b[0;34m\u001b[0m\u001b[0m\n\u001b[0;32m----> 2\u001b[0;31m \u001b[0md1\u001b[0m\u001b[0;34m[\u001b[0m\u001b[0;34m'LNT'\u001b[0m\u001b[0;34m]\u001b[0m \u001b[0;31m# This will raise a 'KeyError'\u001b[0m\u001b[0;34m\u001b[0m\u001b[0;34m\u001b[0m\u001b[0m\n\u001b[0m",
            "\u001b[0;31mKeyError\u001b[0m: 'LNT'"
          ]
        }
      ]
    },
    {
      "cell_type": "code",
      "metadata": {
        "id": "BeYQcpfE38OK",
        "outputId": "ae1124f2-305a-4213-98c3-ec781bf0ca0c",
        "colab": {
          "base_uri": "https://localhost:8080/",
          "height": 34
        }
      },
      "source": [
        "# Use of 'get' method (fails silently)\n",
        "print(d1.get('LNT'))"
      ],
      "execution_count": 44,
      "outputs": [
        {
          "output_type": "stream",
          "text": [
            "None\n"
          ],
          "name": "stdout"
        }
      ]
    },
    {
      "cell_type": "code",
      "metadata": {
        "id": "Er7eTIxvccfs",
        "outputId": "86ad7c5e-8ad2-4bb5-a033-8759a42895ea",
        "colab": {
          "base_uri": "https://localhost:8080/",
          "height": 34
        }
      },
      "source": [
        "print(d1.get('LMT'))"
      ],
      "execution_count": 42,
      "outputs": [
        {
          "output_type": "stream",
          "text": [
            "Lockheed Martin Corporation\n"
          ],
          "name": "stdout"
        }
      ]
    },
    {
      "cell_type": "code",
      "metadata": {
        "id": "ivQ_-L-RceBC",
        "outputId": "e2cfad16-c609-47b4-c562-0419f30b5912",
        "colab": {
          "base_uri": "https://localhost:8080/",
          "height": 35
        }
      },
      "source": [
        "d1['LMT']"
      ],
      "execution_count": 43,
      "outputs": [
        {
          "output_type": "execute_result",
          "data": {
            "application/vnd.google.colaboratory.intrinsic+json": {
              "type": "string"
            },
            "text/plain": [
              "'Lockheed Martin Corporation'"
            ]
          },
          "metadata": {
            "tags": []
          },
          "execution_count": 43
        }
      ]
    },
    {
      "cell_type": "code",
      "metadata": {
        "id": "opfIR60Qch1D"
      },
      "source": [
        ""
      ],
      "execution_count": null,
      "outputs": []
    }
  ]
}