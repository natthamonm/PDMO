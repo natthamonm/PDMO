{
  "nbformat": 4,
  "nbformat_minor": 0,
  "metadata": {
    "colab": {
      "name": "Copy of _WB_Thailand_Notebook_Intro.ipynb",
      "provenance": [],
      "collapsed_sections": [],
      "include_colab_link": true
    },
    "kernelspec": {
      "name": "python3",
      "display_name": "Python 3"
    }
  },
  "cells": [
    {
      "cell_type": "markdown",
      "metadata": {
        "id": "view-in-github",
        "colab_type": "text"
      },
      "source": [
        "<a href=\"https://colab.research.google.com/github/natthamonm/PDMO/blob/main/WB_Thailand_Notebook_Intro.ipynb\" target=\"_parent\"><img src=\"https://colab.research.google.com/assets/colab-badge.svg\" alt=\"Open In Colab\"/></a>"
      ]
    },
    {
      "cell_type": "markdown",
      "metadata": {
        "id": "KBtt9G_i1Itg"
      },
      "source": [
        "# Introduction to the Notebook (colab or jupyter)\n",
        "----"
      ]
    },
    {
      "cell_type": "markdown",
      "metadata": {
        "id": "fECwDagt1NNs"
      },
      "source": [
        "### Multiple ways to interact with Python\n",
        "* From the command line (simply type 'python' or 'ipython')\n",
        "* Plain text editor (e.g. Notepad++)\n",
        "* IDE (e.g. 'VS Code' or 'Spyder' which is part of the Anaconda distribution -> intro later)\n",
        "* Cloud-based (colab) or local (Jupyter) notebooks\n"
      ]
    },
    {
      "cell_type": "markdown",
      "metadata": {
        "id": "FK3ZQTw_1UtD"
      },
      "source": [
        "### The idea of the notebook\n",
        "* Keep code and output close together (in \"cells\")\n",
        "* Great for documenting the analytical steps \n",
        "> The notebook format supports the idea of _replicability_: a sound, transparent analysis should contain - in addition to the final output (text, graphs, tables) - all the computational steps needed to get from raw input data to the results.\n",
        "* ... and teaching\n",
        "* A productive workflow:\n",
        "prototype code in the notebook and consolidate into scripts later on"
      ]
    },
    {
      "cell_type": "markdown",
      "metadata": {
        "id": "P5JZuYaG1Yhk"
      },
      "source": [
        "### Colab basics \n",
        "* Edit and run python code from your web-browser \n",
        "    * Ready for use (already configurated)\n",
        "    * Free access to computing power\n",
        "    * Share with collaborators\n",
        "* Multiple __cell types__, e.g. 'Code' and 'Text'\n",
        "    * Text is for (formatted) text, e.g. descriptions of results\n",
        "    * Code is for executable Python code"
      ]
    },
    {
      "cell_type": "markdown",
      "metadata": {
        "id": "m4txzsml1aeE"
      },
      "source": [
        "### How to execute cells and display results\n",
        "Useful shortcuts: (also try ctrl + M H)\n",
        "* **ctrl + enter**: run cell and stay in cell\n",
        "* **shift + enter**: run cell and jump to next cell\n",
        "\n",
        "* Note that Notebook always prints output (if any) of last statement of a cell to screen. \n",
        "* Can force print of other statement with \"print()\" command for other line"
      ]
    },
    {
      "cell_type": "code",
      "metadata": {
        "id": "5T-640be1fPU"
      },
      "source": [
        "x = 10\n",
        "y = 20\n",
        "y"
      ],
      "execution_count": null,
      "outputs": []
    },
    {
      "cell_type": "code",
      "metadata": {
        "id": "5Y6wOmbn1g2c"
      },
      "source": [
        "x = 10\n",
        "print(x)\n",
        "y = 20\n",
        "y"
      ],
      "execution_count": null,
      "outputs": []
    },
    {
      "cell_type": "markdown",
      "metadata": {
        "id": "OOsfci2A1m4U"
      },
      "source": [
        "### How to add, delete and move cells\n",
        "Toolbar\n",
        "* **ctrl + M B**: add a cell below\n",
        "* **ctrl + M D**: delete cell (can be undone from \"Edit\" tab)\n",
        "* **up- and down arrows in the toolbar**: move cells\n",
        "* **hold ctrl + click cells in left margin**: select multiple cells (vertical bar must be blue)"
      ]
    },
    {
      "cell_type": "code",
      "metadata": {
        "id": "HvtUFxbZ72gn"
      },
      "source": [
        ""
      ],
      "execution_count": null,
      "outputs": []
    },
    {
      "cell_type": "markdown",
      "metadata": {
        "id": "uoi73DM_1lD8"
      },
      "source": [
        "### <font color='steelblue'>Exercise</font>\n",
        "1. Create a new colab notebook. Rename the notebook \"[my_name] notebook\"\n",
        "2. Add a code cell (for example with the computation 2 + 2) and execute it with __shift+enter__ (which automatically creates new, empty cell below)\n",
        "3. Add a text cell\n",
        "4. Make a bullet-list in markdown (start each line with a *) and execute it with __shift+enter__\n",
        "5. Change the order of the two cells\n",
        "6. Click in the left margin of a cell (it should become grey), copy it using **ctrl + c**\n",
        "7. Paste the copied cell using **crtl + v** icon"
      ]
    },
    {
      "cell_type": "markdown",
      "metadata": {
        "id": "s-CpM3ef1pm0"
      },
      "source": [
        "### Auto-complete and context-sensitive help\n",
        "To get auto-complete to work, go to Tools -> Setttings -> Editor and turn off 'Automatically trigger code completions'\n",
        "* **tab**: autocomplete and  method selection\n",
        "* **shift + tab**: documention (double tab for full doc)"
      ]
    },
    {
      "cell_type": "code",
      "metadata": {
        "id": "l9SvzfBG1uXk"
      },
      "source": [
        "# Define a string\n",
        "s = \"Python\""
      ],
      "execution_count": null,
      "outputs": []
    },
    {
      "cell_type": "code",
      "metadata": {
        "id": "qg1mOExB1ukc",
        "outputId": "21420428-b63e-421b-a31e-d27aac03883b",
        "colab": {
          "base_uri": "https://localhost:8080/",
          "height": 129
        }
      },
      "source": [
        "# Press tab to see, what you can do with a string in Python (try e.g. upper())\n",
        "s."
      ],
      "execution_count": null,
      "outputs": [
        {
          "output_type": "error",
          "ename": "SyntaxError",
          "evalue": "ignored",
          "traceback": [
            "\u001b[0;36m  File \u001b[0;32m\"<ipython-input-3-3bafe19b289c>\"\u001b[0;36m, line \u001b[0;32m2\u001b[0m\n\u001b[0;31m    s.\u001b[0m\n\u001b[0m      ^\u001b[0m\n\u001b[0;31mSyntaxError\u001b[0m\u001b[0;31m:\u001b[0m invalid syntax\n"
          ]
        }
      ]
    },
    {
      "cell_type": "code",
      "metadata": {
        "id": "a33lpaRs1uwT",
        "outputId": "594d4022-656b-49fa-d93f-7f6290a25b62",
        "colab": {
          "base_uri": "https://localhost:8080/",
          "height": 179
        }
      },
      "source": [
        "# Context-sensitive help: press shift + tab (once or twice)\n",
        "sorted()"
      ],
      "execution_count": 11,
      "outputs": [
        {
          "output_type": "error",
          "ename": "TypeError",
          "evalue": "ignored",
          "traceback": [
            "\u001b[0;31m---------------------------------------------------------------------------\u001b[0m",
            "\u001b[0;31mTypeError\u001b[0m                                 Traceback (most recent call last)",
            "\u001b[0;32m<ipython-input-11-420c7645e919>\u001b[0m in \u001b[0;36m<module>\u001b[0;34m()\u001b[0m\n\u001b[1;32m      1\u001b[0m \u001b[0;31m# Context-sensitive help: press shift + tab (once or twice)\u001b[0m\u001b[0;34m\u001b[0m\u001b[0;34m\u001b[0m\u001b[0;34m\u001b[0m\u001b[0m\n\u001b[0;32m----> 2\u001b[0;31m \u001b[0msorted\u001b[0m\u001b[0;34m(\u001b[0m\u001b[0;34m)\u001b[0m\u001b[0;34m\u001b[0m\u001b[0;34m\u001b[0m\u001b[0m\n\u001b[0m",
            "\u001b[0;31mTypeError\u001b[0m: Function takes at least 1 positional arguments (0 given)"
          ]
        }
      ]
    },
    {
      "cell_type": "markdown",
      "metadata": {
        "id": "OKX9_2uE1tDE"
      },
      "source": [
        "### Some useful 'magic' functions\n",
        "* %time (to time the execution of a line), e.g. %time 12345/3456\n",
        "* %%time (to time the execution of a cell)\n",
        "* ! for executing shell commands"
      ]
    },
    {
      "cell_type": "code",
      "metadata": {
        "id": "sh1CbHp_14f8",
        "outputId": "5f1be455-b058-4bfa-dac1-9b5de9a488c1",
        "colab": {
          "base_uri": "https://localhost:8080/",
          "height": 67
        }
      },
      "source": [
        "# Time a single line\n",
        "%time 123456789**3"
      ],
      "execution_count": null,
      "outputs": [
        {
          "output_type": "stream",
          "text": [
            "CPU times: user 3 µs, sys: 0 ns, total: 3 µs\n",
            "Wall time: 6.91 µs\n"
          ],
          "name": "stdout"
        },
        {
          "output_type": "execute_result",
          "data": {
            "text/plain": [
              "1881676371789154860897069"
            ]
          },
          "metadata": {
            "tags": []
          },
          "execution_count": 6
        }
      ]
    },
    {
      "cell_type": "code",
      "metadata": {
        "id": "YNAKAsnz17G0",
        "outputId": "8bd41346-1911-475b-9406-a8daf8d0ebdb",
        "colab": {
          "base_uri": "https://localhost:8080/",
          "height": 50
        }
      },
      "source": [
        "%%time\n",
        "for x in range(1000):\n",
        "    123456789**3"
      ],
      "execution_count": null,
      "outputs": [
        {
          "output_type": "stream",
          "text": [
            "CPU times: user 31 µs, sys: 8 µs, total: 39 µs\n",
            "Wall time: 42.4 µs\n"
          ],
          "name": "stdout"
        }
      ]
    },
    {
      "cell_type": "code",
      "metadata": {
        "id": "93ps8q7R18ZM",
        "outputId": "020d653e-52dd-4bbe-c65c-1ddc96724f4b",
        "colab": {
          "base_uri": "https://localhost:8080/",
          "height": 34
        }
      },
      "source": [
        "!pwd"
      ],
      "execution_count": null,
      "outputs": [
        {
          "output_type": "stream",
          "text": [
            "/content\n"
          ],
          "name": "stdout"
        }
      ]
    },
    {
      "cell_type": "code",
      "metadata": {
        "id": "b3B5gmHTmK3G",
        "outputId": "0b9721a5-d07e-478b-ad0d-2bfa1b33aca0",
        "colab": {
          "base_uri": "https://localhost:8080/",
          "height": 34
        }
      },
      "source": [
        "!dir"
      ],
      "execution_count": null,
      "outputs": [
        {
          "output_type": "stream",
          "text": [
            "sample_data\n"
          ],
          "name": "stdout"
        }
      ]
    },
    {
      "cell_type": "code",
      "metadata": {
        "id": "nSd1Y_CtErD9",
        "outputId": "62b06edd-2f37-45d8-9170-debf6bfa09ae",
        "colab": {
          "base_uri": "https://localhost:8080/",
          "height": 67
        }
      },
      "source": [
        "!ls sample_data"
      ],
      "execution_count": null,
      "outputs": [
        {
          "output_type": "stream",
          "text": [
            "anscombe.json\t\t      mnist_test.csv\n",
            "california_housing_test.csv   mnist_train_small.csv\n",
            "california_housing_train.csv  README.md\n"
          ],
          "name": "stdout"
        }
      ]
    },
    {
      "cell_type": "markdown",
      "metadata": {
        "id": "u24MwZzE2Cm8"
      },
      "source": [
        "### LaTeX support\n",
        "Markdown mode includes LaTeX support for equations:\n",
        "\n",
        "$$y_t = \\beta_0 + \\beta_1 x_t + u_t$$"
      ]
    },
    {
      "cell_type": "markdown",
      "metadata": {
        "id": "5_Yxyfzq2DX2"
      },
      "source": [
        "## A few words on 'import' statements"
      ]
    },
    {
      "cell_type": "code",
      "metadata": {
        "id": "jYkIBx7k2GZM",
        "outputId": "0c3047b3-c9c9-44bf-95bd-b68140e6f24d",
        "colab": {
          "base_uri": "https://localhost:8080/",
          "height": 34
        }
      },
      "source": [
        "# Import and call a built-in module\n",
        "import math\n",
        "math.pi"
      ],
      "execution_count": null,
      "outputs": [
        {
          "output_type": "execute_result",
          "data": {
            "text/plain": [
              "3.141592653589793"
            ]
          },
          "metadata": {
            "tags": []
          },
          "execution_count": 12
        }
      ]
    },
    {
      "cell_type": "code",
      "metadata": {
        "id": "HyhsSPEM2Gfl",
        "outputId": "f2c3d80c-64f5-4767-fc01-251b4768d87e",
        "colab": {
          "base_uri": "https://localhost:8080/",
          "height": 34
        }
      },
      "source": [
        "# Importing only part of a module's functionality\n",
        "from math import pi, e, cos\n",
        "pi"
      ],
      "execution_count": null,
      "outputs": [
        {
          "output_type": "execute_result",
          "data": {
            "text/plain": [
              "3.141592653589793"
            ]
          },
          "metadata": {
            "tags": []
          },
          "execution_count": 13
        }
      ]
    },
    {
      "cell_type": "code",
      "metadata": {
        "id": "u8dPeraB2Gmn",
        "outputId": "e414b452-bfc3-42d6-a2b1-9f39d83c4566",
        "colab": {
          "base_uri": "https://localhost:8080/",
          "height": 34
        }
      },
      "source": [
        "# Use of aliases for modules\n",
        "import math as M\n",
        "M.pi"
      ],
      "execution_count": null,
      "outputs": [
        {
          "output_type": "execute_result",
          "data": {
            "text/plain": [
              "3.141592653589793"
            ]
          },
          "metadata": {
            "tags": []
          },
          "execution_count": 14
        }
      ]
    },
    {
      "cell_type": "code",
      "metadata": {
        "id": "LA1hI6PG2GuE"
      },
      "source": [
        "# Conventions for some aliases\n",
        "import numpy as np\n",
        "import pandas as pd"
      ],
      "execution_count": null,
      "outputs": []
    },
    {
      "cell_type": "markdown",
      "metadata": {
        "id": "eAICux3xE2WO"
      },
      "source": [
        "## An example:"
      ]
    },
    {
      "cell_type": "code",
      "metadata": {
        "id": "7LvQvdN6E-N-",
        "outputId": "9290b610-f651-4304-f0aa-def0cd7c462a",
        "colab": {
          "base_uri": "https://localhost:8080/",
          "height": 225
        }
      },
      "source": [
        "import pandas as pd\n",
        "import pandas_datareader.data as web\n",
        "import datetime\n",
        "\n",
        "today = pd.to_datetime(\"today\")\n",
        "start = datetime.datetime(1900, 1, 1)\n",
        "end = today\n",
        "\n",
        "# https://fred.stlouisfed.org/series/DGS10\n",
        "US_10 = web.DataReader(['DGS10'], 'fred', start, end)\n",
        "\n",
        "#US_10.head()\n",
        "US_10.tail()"
      ],
      "execution_count": 1,
      "outputs": [
        {
          "output_type": "execute_result",
          "data": {
            "text/html": [
              "<div>\n",
              "<style scoped>\n",
              "    .dataframe tbody tr th:only-of-type {\n",
              "        vertical-align: middle;\n",
              "    }\n",
              "\n",
              "    .dataframe tbody tr th {\n",
              "        vertical-align: top;\n",
              "    }\n",
              "\n",
              "    .dataframe thead th {\n",
              "        text-align: right;\n",
              "    }\n",
              "</style>\n",
              "<table border=\"1\" class=\"dataframe\">\n",
              "  <thead>\n",
              "    <tr style=\"text-align: right;\">\n",
              "      <th></th>\n",
              "      <th>DGS10</th>\n",
              "    </tr>\n",
              "    <tr>\n",
              "      <th>DATE</th>\n",
              "      <th></th>\n",
              "    </tr>\n",
              "  </thead>\n",
              "  <tbody>\n",
              "    <tr>\n",
              "      <th>2020-10-14</th>\n",
              "      <td>0.73</td>\n",
              "    </tr>\n",
              "    <tr>\n",
              "      <th>2020-10-15</th>\n",
              "      <td>0.74</td>\n",
              "    </tr>\n",
              "    <tr>\n",
              "      <th>2020-10-16</th>\n",
              "      <td>0.76</td>\n",
              "    </tr>\n",
              "    <tr>\n",
              "      <th>2020-10-19</th>\n",
              "      <td>0.78</td>\n",
              "    </tr>\n",
              "    <tr>\n",
              "      <th>2020-10-20</th>\n",
              "      <td>0.81</td>\n",
              "    </tr>\n",
              "  </tbody>\n",
              "</table>\n",
              "</div>"
            ],
            "text/plain": [
              "            DGS10\n",
              "DATE             \n",
              "2020-10-14   0.73\n",
              "2020-10-15   0.74\n",
              "2020-10-16   0.76\n",
              "2020-10-19   0.78\n",
              "2020-10-20   0.81"
            ]
          },
          "metadata": {
            "tags": []
          },
          "execution_count": 1
        }
      ]
    },
    {
      "cell_type": "code",
      "metadata": {
        "id": "4cNrKZ3RlnqD",
        "outputId": "0aac2802-da65-4695-a1f9-cd92679e4e94",
        "colab": {
          "base_uri": "https://localhost:8080/",
          "height": 279
        }
      },
      "source": [
        "# Visualize our dataframe by plotting it.\n",
        "%matplotlib inline\n",
        "US_10.plot(grid=True);"
      ],
      "execution_count": 2,
      "outputs": [
        {
          "output_type": "display_data",
          "data": {
            "image/png": "[encoded data removed]",
            "text/plain": [
              "<Figure size 432x288 with 1 Axes>"
            ]
          },
          "metadata": {
            "tags": [],
            "needs_background": "light"
          }
        }
      ]
    },
    {
      "cell_type": "markdown",
      "metadata": {
        "id": "LytdIePAc9sS"
      },
      "source": [
        "## Install libraries not already embedded in colab"
      ]
    },
    {
      "cell_type": "code",
      "metadata": {
        "id": "lqJgD8D9c0GB",
        "outputId": "474e744a-a4dd-4a4d-f89e-2dc67ada4b47",
        "colab": {
          "base_uri": "https://localhost:8080/",
          "height": 297
        }
      },
      "source": [
        "import arch"
      ],
      "execution_count": 3,
      "outputs": [
        {
          "output_type": "error",
          "ename": "ModuleNotFoundError",
          "evalue": "ignored",
          "traceback": [
            "\u001b[0;31m---------------------------------------------------------------------------\u001b[0m",
            "\u001b[0;31mModuleNotFoundError\u001b[0m                       Traceback (most recent call last)",
            "\u001b[0;32m<ipython-input-3-f7364d111fb6>\u001b[0m in \u001b[0;36m<module>\u001b[0;34m()\u001b[0m\n\u001b[0;32m----> 1\u001b[0;31m \u001b[0;32mimport\u001b[0m \u001b[0march\u001b[0m\u001b[0;34m\u001b[0m\u001b[0;34m\u001b[0m\u001b[0m\n\u001b[0m",
            "\u001b[0;31mModuleNotFoundError\u001b[0m: No module named 'arch'",
            "",
            "\u001b[0;31m---------------------------------------------------------------------------\u001b[0;32m\nNOTE: If your import is failing due to a missing package, you can\nmanually install dependencies using either !pip or !apt.\n\nTo view examples of installing some common dependencies, click the\n\"Open Examples\" button below.\n\u001b[0;31m---------------------------------------------------------------------------\u001b[0m\n"
          ]
        }
      ]
    },
    {
      "cell_type": "code",
      "metadata": {
        "id": "LGbaXudLcmUj",
        "outputId": "77723e5b-9c16-4b00-89e1-38d1e80b6150",
        "colab": {
          "base_uri": "https://localhost:8080/",
          "height": 286
        }
      },
      "source": [
        "!pip install arch"
      ],
      "execution_count": 4,
      "outputs": [
        {
          "output_type": "stream",
          "text": [
            "Collecting arch\n",
            "\u001b[?25l  Downloading https://files.pythonhosted.org/packages/7f/5c/ef80e96f2cdc6c2d293b7e4688888a4428963c966fbb0c749c9078e68bb6/arch-4.15-cp36-cp36m-manylinux1_x86_64.whl (790kB)\n",
            "\r\u001b[K     |▍                               | 10kB 16.1MB/s eta 0:00:01\r\u001b[K     |▉                               | 20kB 2.2MB/s eta 0:00:01\r\u001b[K     |█▎                              | 30kB 2.6MB/s eta 0:00:01\r\u001b[K     |█▋                              | 40kB 2.9MB/s eta 0:00:01\r\u001b[K     |██                              | 51kB 2.5MB/s eta 0:00:01\r\u001b[K     |██▌                             | 61kB 2.8MB/s eta 0:00:01\r\u001b[K     |███                             | 71kB 3.1MB/s eta 0:00:01\r\u001b[K     |███▎                            | 81kB 2.6MB/s eta 0:00:01\r\u001b[K     |███▊                            | 92kB 2.9MB/s eta 0:00:01\r\u001b[K     |████▏                           | 102kB 3.1MB/s eta 0:00:01\r\u001b[K     |████▋                           | 112kB 3.1MB/s eta 0:00:01\r\u001b[K     |█████                           | 122kB 3.1MB/s eta 0:00:01\r\u001b[K     |█████▍                          | 133kB 3.1MB/s eta 0:00:01\r\u001b[K     |█████▉                          | 143kB 3.1MB/s eta 0:00:01\r\u001b[K     |██████▏                         | 153kB 3.1MB/s eta 0:00:01\r\u001b[K     |██████▋                         | 163kB 3.1MB/s eta 0:00:01\r\u001b[K     |███████                         | 174kB 3.1MB/s eta 0:00:01\r\u001b[K     |███████▌                        | 184kB 3.1MB/s eta 0:00:01\r\u001b[K     |███████▉                        | 194kB 3.1MB/s eta 0:00:01\r\u001b[K     |████████▎                       | 204kB 3.1MB/s eta 0:00:01\r\u001b[K     |████████▊                       | 215kB 3.1MB/s eta 0:00:01\r\u001b[K     |█████████▏                      | 225kB 3.1MB/s eta 0:00:01\r\u001b[K     |█████████▌                      | 235kB 3.1MB/s eta 0:00:01\r\u001b[K     |██████████                      | 245kB 3.1MB/s eta 0:00:01\r\u001b[K     |██████████▍                     | 256kB 3.1MB/s eta 0:00:01\r\u001b[K     |██████████▉                     | 266kB 3.1MB/s eta 0:00:01\r\u001b[K     |███████████▏                    | 276kB 3.1MB/s eta 0:00:01\r\u001b[K     |███████████▋                    | 286kB 3.1MB/s eta 0:00:01\r\u001b[K     |████████████                    | 296kB 3.1MB/s eta 0:00:01\r\u001b[K     |████████████▍                   | 307kB 3.1MB/s eta 0:00:01\r\u001b[K     |████████████▉                   | 317kB 3.1MB/s eta 0:00:01\r\u001b[K     |█████████████▎                  | 327kB 3.1MB/s eta 0:00:01\r\u001b[K     |█████████████▊                  | 337kB 3.1MB/s eta 0:00:01\r\u001b[K     |██████████████                  | 348kB 3.1MB/s eta 0:00:01\r\u001b[K     |██████████████▌                 | 358kB 3.1MB/s eta 0:00:01\r\u001b[K     |███████████████                 | 368kB 3.1MB/s eta 0:00:01\r\u001b[K     |███████████████▍                | 378kB 3.1MB/s eta 0:00:01\r\u001b[K     |███████████████▊                | 389kB 3.1MB/s eta 0:00:01\r\u001b[K     |████████████████▏               | 399kB 3.1MB/s eta 0:00:01\r\u001b[K     |████████████████▋               | 409kB 3.1MB/s eta 0:00:01\r\u001b[K     |█████████████████               | 419kB 3.1MB/s eta 0:00:01\r\u001b[K     |█████████████████▍              | 430kB 3.1MB/s eta 0:00:01\r\u001b[K     |█████████████████▉              | 440kB 3.1MB/s eta 0:00:01\r\u001b[K     |██████████████████▎             | 450kB 3.1MB/s eta 0:00:01\r\u001b[K     |██████████████████▋             | 460kB 3.1MB/s eta 0:00:01\r\u001b[K     |███████████████████             | 471kB 3.1MB/s eta 0:00:01\r\u001b[K     |███████████████████▌            | 481kB 3.1MB/s eta 0:00:01\r\u001b[K     |████████████████████            | 491kB 3.1MB/s eta 0:00:01\r\u001b[K     |████████████████████▎           | 501kB 3.1MB/s eta 0:00:01\r\u001b[K     |████████████████████▊           | 512kB 3.1MB/s eta 0:00:01\r\u001b[K     |█████████████████████▏          | 522kB 3.1MB/s eta 0:00:01\r\u001b[K     |█████████████████████▋          | 532kB 3.1MB/s eta 0:00:01\r\u001b[K     |██████████████████████          | 542kB 3.1MB/s eta 0:00:01\r\u001b[K     |██████████████████████▍         | 552kB 3.1MB/s eta 0:00:01\r\u001b[K     |██████████████████████▉         | 563kB 3.1MB/s eta 0:00:01\r\u001b[K     |███████████████████████▎        | 573kB 3.1MB/s eta 0:00:01\r\u001b[K     |███████████████████████▋        | 583kB 3.1MB/s eta 0:00:01\r\u001b[K     |████████████████████████        | 593kB 3.1MB/s eta 0:00:01\r\u001b[K     |████████████████████████▌       | 604kB 3.1MB/s eta 0:00:01\r\u001b[K     |████████████████████████▉       | 614kB 3.1MB/s eta 0:00:01\r\u001b[K     |█████████████████████████▎      | 624kB 3.1MB/s eta 0:00:01\r\u001b[K     |█████████████████████████▊      | 634kB 3.1MB/s eta 0:00:01\r\u001b[K     |██████████████████████████▏     | 645kB 3.1MB/s eta 0:00:01\r\u001b[K     |██████████████████████████▌     | 655kB 3.1MB/s eta 0:00:01\r\u001b[K     |███████████████████████████     | 665kB 3.1MB/s eta 0:00:01\r\u001b[K     |███████████████████████████▍    | 675kB 3.1MB/s eta 0:00:01\r\u001b[K     |███████████████████████████▉    | 686kB 3.1MB/s eta 0:00:01\r\u001b[K     |████████████████████████████▏   | 696kB 3.1MB/s eta 0:00:01\r\u001b[K     |████████████████████████████▋   | 706kB 3.1MB/s eta 0:00:01\r\u001b[K     |█████████████████████████████   | 716kB 3.1MB/s eta 0:00:01\r\u001b[K     |█████████████████████████████▍  | 727kB 3.1MB/s eta 0:00:01\r\u001b[K     |█████████████████████████████▉  | 737kB 3.1MB/s eta 0:00:01\r\u001b[K     |██████████████████████████████▎ | 747kB 3.1MB/s eta 0:00:01\r\u001b[K     |██████████████████████████████▊ | 757kB 3.1MB/s eta 0:00:01\r\u001b[K     |███████████████████████████████ | 768kB 3.1MB/s eta 0:00:01\r\u001b[K     |███████████████████████████████▌| 778kB 3.1MB/s eta 0:00:01\r\u001b[K     |████████████████████████████████| 788kB 3.1MB/s eta 0:00:01\r\u001b[K     |████████████████████████████████| 798kB 3.1MB/s \n",
            "\u001b[?25hRequirement already satisfied: statsmodels>=0.9 in /usr/local/lib/python3.6/dist-packages (from arch) (0.10.2)\n",
            "Requirement already satisfied: pandas>=0.23 in /usr/local/lib/python3.6/dist-packages (from arch) (1.1.2)\n",
            "Requirement already satisfied: scipy>=1.0.1 in /usr/local/lib/python3.6/dist-packages (from arch) (1.4.1)\n",
            "Requirement already satisfied: numpy>=1.14 in /usr/local/lib/python3.6/dist-packages (from arch) (1.18.5)\n",
            "Requirement already satisfied: cython>=0.29.14 in /usr/local/lib/python3.6/dist-packages (from arch) (0.29.21)\n",
            "Collecting property-cached>=1.6.3\n",
            "  Downloading https://files.pythonhosted.org/packages/5c/6c/94d8e520b20a2502e508e1c558f338061cf409cbee78fd6a3a5c6ae812bd/property_cached-1.6.4-py2.py3-none-any.whl\n",
            "Requirement already satisfied: patsy>=0.4.0 in /usr/local/lib/python3.6/dist-packages (from statsmodels>=0.9->arch) (0.5.1)\n",
            "Requirement already satisfied: python-dateutil>=2.7.3 in /usr/local/lib/python3.6/dist-packages (from pandas>=0.23->arch) (2.8.1)\n",
            "Requirement already satisfied: pytz>=2017.2 in /usr/local/lib/python3.6/dist-packages (from pandas>=0.23->arch) (2018.9)\n",
            "Requirement already satisfied: six in /usr/local/lib/python3.6/dist-packages (from patsy>=0.4.0->statsmodels>=0.9->arch) (1.15.0)\n",
            "Installing collected packages: property-cached, arch\n",
            "Successfully installed arch-4.15 property-cached-1.6.4\n"
          ],
          "name": "stdout"
        }
      ]
    },
    {
      "cell_type": "code",
      "metadata": {
        "id": "T5iKp_7tcrNq",
        "outputId": "78b7f43d-bbd8-4432-ccbf-6d1e2a196ceb",
        "colab": {
          "base_uri": "https://localhost:8080/",
          "height": 50
        }
      },
      "source": [
        "import arch"
      ],
      "execution_count": 5,
      "outputs": [
        {
          "output_type": "stream",
          "text": [
            "/usr/local/lib/python3.6/dist-packages/statsmodels/tools/_testing.py:19: FutureWarning: pandas.util.testing is deprecated. Use the functions in the public API at pandas.testing instead.\n",
            "  import pandas.util.testing as tm\n"
          ],
          "name": "stderr"
        }
      ]
    },
    {
      "cell_type": "code",
      "metadata": {
        "id": "t6BJqVvb0miQ",
        "outputId": "47311193-d569-416a-f0a9-90f6b5ad25a9",
        "colab": {
          "base_uri": "https://localhost:8080/",
          "height": 34
        }
      },
      "source": [
        "arch.univariate.GARCH"
      ],
      "execution_count": 6,
      "outputs": [
        {
          "output_type": "execute_result",
          "data": {
            "text/plain": [
              "arch.univariate.volatility.GARCH"
            ]
          },
          "metadata": {
            "tags": []
          },
          "execution_count": 6
        }
      ]
    }
  ]
}