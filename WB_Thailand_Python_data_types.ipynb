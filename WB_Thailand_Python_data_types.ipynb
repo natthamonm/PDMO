{
  "nbformat": 4,
  "nbformat_minor": 0,
  "metadata": {
    "kernelspec": {
      "name": "python3",
      "display_name": "Python 3"
    },
    "colab": {
      "name": "Copy of _WB_Thailand_Python_data_types.ipynb",
      "provenance": [],
      "collapsed_sections": [
        "zKWf30Of417s",
        "3c6FRzOz417u",
        "pjPqUNVE417w",
        "JKESccoT418M",
        "AtaBWZe5418o",
        "k9Osml5J419N",
        "7fKBlMrD419k",
        "LQLrhLxg419p",
        "ambVF47r3yBK",
        "WyKCnz_c4mfi",
        "IS_IbTQF41-c",
        "jZvCAXaF41-n",
        "BIDZD-0141-x",
        "B0GZb77M41--",
        "9FY1yxDf41_n",
        "OS_xhXAt41_p",
        "HW66C3Ko42AP",
        "Ns5I9zX742AV"
      ],
      "include_colab_link": true
    }
  },
  "cells": [
    {
      "cell_type": "markdown",
      "metadata": {
        "id": "view-in-github",
        "colab_type": "text"
      },
      "source": [
        "<a href=\"https://colab.research.google.com/github/natthamonm/PDMO/blob/main/WB_Thailand_Python_data_types.ipynb\" target=\"_parent\"><img src=\"https://colab.research.google.com/assets/colab-badge.svg\" alt=\"Open In Colab\"/></a>"
      ]
    },
    {
      "cell_type": "markdown",
      "metadata": {
        "id": "zKWf30Of417s"
      },
      "source": [
        "# **Introduction to Python's built-in data types**\n",
        "----\n",
        "In the introductory example, we briefly discussed how to construct customized data structures for our application (such as the \"Bond\" class).\n",
        "\n",
        "However, to be able to build such model components, we first need to learn more about Python's stardard, built-in data types."
      ]
    },
    {
      "cell_type": "markdown",
      "metadata": {
        "id": "3c6FRzOz417u"
      },
      "source": [
        "#### This notebook covers the following fundamental Python data types: \n",
        "- integers\n",
        "- real numbers\n",
        "- lists\n",
        "- strings\n",
        "- dates"
      ]
    },
    {
      "cell_type": "markdown",
      "metadata": {
        "id": "pjPqUNVE417w"
      },
      "source": [
        "## **Integers**: datatype 'int'"
      ]
    },
    {
      "cell_type": "code",
      "metadata": {
        "id": "eSSu5_S3417y",
        "outputId": "1ae29c6f-6ddd-410b-fef1-932552cd454c",
        "colab": {
          "base_uri": "https://localhost:8080/",
          "height": 34
        }
      },
      "source": [
        "x = 4\n",
        "y = 2\n",
        "type(x)"
      ],
      "execution_count": 1,
      "outputs": [
        {
          "output_type": "execute_result",
          "data": {
            "text/plain": [
              "int"
            ]
          },
          "metadata": {
            "tags": []
          },
          "execution_count": 1
        }
      ]
    },
    {
      "cell_type": "code",
      "metadata": {
        "id": "h-uQq8BA4179",
        "outputId": "fa5deff5-b40e-4c58-c56c-02aa0f56e5d2",
        "colab": {
          "base_uri": "https://localhost:8080/",
          "height": 84
        }
      },
      "source": [
        "print(\"x + y :\", x + y)\n",
        "print(\"x - y :\", x - y)\n",
        "print(\"x * y :\", x * y)\n",
        "print(\"x / y :\", x / y)"
      ],
      "execution_count": 2,
      "outputs": [
        {
          "output_type": "stream",
          "text": [
            "x + y : 6\n",
            "x - y : 2\n",
            "x * y : 8\n",
            "x / y : 2.0\n"
          ],
          "name": "stdout"
        }
      ]
    },
    {
      "cell_type": "code",
      "metadata": {
        "id": "Wd6RQ6Lz418D",
        "outputId": "e2a02c1c-58c1-456a-d860-5bf50d51ca26",
        "colab": {
          "base_uri": "https://localhost:8080/",
          "height": 34
        }
      },
      "source": [
        "x = 2\n",
        "y = 3\n",
        "x**y # Notation for exponentiation"
      ],
      "execution_count": 3,
      "outputs": [
        {
          "output_type": "execute_result",
          "data": {
            "text/plain": [
              "8"
            ]
          },
          "metadata": {
            "tags": []
          },
          "execution_count": 3
        }
      ]
    },
    {
      "cell_type": "markdown",
      "metadata": {
        "id": "JKESccoT418M"
      },
      "source": [
        "## **Real numbers**: datatype 'float'"
      ]
    },
    {
      "cell_type": "code",
      "metadata": {
        "id": "hd9RXDlI418Q",
        "outputId": "231a89d2-27f5-412e-b454-ffe57ccd73be",
        "colab": {
          "base_uri": "https://localhost:8080/",
          "height": 50
        }
      },
      "source": [
        "a = 0.016\n",
        "print(a)\n",
        "type(a)"
      ],
      "execution_count": 8,
      "outputs": [
        {
          "output_type": "stream",
          "text": [
            "0.016\n"
          ],
          "name": "stdout"
        },
        {
          "output_type": "execute_result",
          "data": {
            "text/plain": [
              "float"
            ]
          },
          "metadata": {
            "tags": []
          },
          "execution_count": 8
        }
      ]
    },
    {
      "cell_type": "code",
      "metadata": {
        "id": "Jo7uB7nZ418c",
        "outputId": "4a12c485-0976-4b0e-ffc6-cbdf84e41590",
        "colab": {
          "base_uri": "https://localhost:8080/",
          "height": 34
        }
      },
      "source": [
        "# Round a real number to a specific number of decimals\n",
        "round(20.675, 2)"
      ],
      "execution_count": 9,
      "outputs": [
        {
          "output_type": "execute_result",
          "data": {
            "text/plain": [
              "20.68"
            ]
          },
          "metadata": {
            "tags": []
          },
          "execution_count": 9
        }
      ]
    },
    {
      "cell_type": "code",
      "metadata": {
        "id": "yhrQHCyTAeF9",
        "outputId": "be294ed7-9f67-4273-d3fb-531c7bb65c08",
        "colab": {
          "base_uri": "https://localhost:8080/",
          "height": 34
        }
      },
      "source": [
        "# Convert from float to int\n",
        "int(3.1415)"
      ],
      "execution_count": 6,
      "outputs": [
        {
          "output_type": "execute_result",
          "data": {
            "text/plain": [
              "3"
            ]
          },
          "metadata": {
            "tags": []
          },
          "execution_count": 6
        }
      ]
    },
    {
      "cell_type": "code",
      "metadata": {
        "id": "Px_bEoEWAoC-",
        "outputId": "0e3aa850-9d97-438d-ffdc-a31d4bad9092",
        "colab": {
          "base_uri": "https://localhost:8080/",
          "height": 34
        }
      },
      "source": [
        "# And the other way around\n",
        "float(3)"
      ],
      "execution_count": 10,
      "outputs": [
        {
          "output_type": "execute_result",
          "data": {
            "text/plain": [
              "3.0"
            ]
          },
          "metadata": {
            "tags": []
          },
          "execution_count": 10
        }
      ]
    },
    {
      "cell_type": "markdown",
      "metadata": {
        "id": "AtaBWZe5418o"
      },
      "source": [
        "## **Lists**: Datatype 'list'\n",
        "\n",
        "Lists are useful for storing collections of things, e.g. bonds in a debt portfolio."
      ]
    },
    {
      "cell_type": "code",
      "metadata": {
        "id": "TY9Uh-XL418p",
        "outputId": "73016b16-19d2-4875-a27c-5d1803177c48",
        "colab": {
          "base_uri": "https://localhost:8080/",
          "height": 34
        }
      },
      "source": [
        "# Lists are created with brackets\n",
        "L = []\n",
        "type(L)"
      ],
      "execution_count": 11,
      "outputs": [
        {
          "output_type": "execute_result",
          "data": {
            "text/plain": [
              "list"
            ]
          },
          "metadata": {
            "tags": []
          },
          "execution_count": 11
        }
      ]
    },
    {
      "cell_type": "code",
      "metadata": {
        "id": "ljB31hby418w"
      },
      "source": [
        "# Create a list of integers\n",
        "L = [2, 4, 6]"
      ],
      "execution_count": 12,
      "outputs": []
    },
    {
      "cell_type": "code",
      "metadata": {
        "id": "sLSeKNHc4186",
        "outputId": "b7a2d17e-0683-492e-8372-693811ab8cc8",
        "colab": {
          "base_uri": "https://localhost:8080/",
          "height": 34
        }
      },
      "source": [
        "# Number of elements\n",
        "len(L)"
      ],
      "execution_count": 13,
      "outputs": [
        {
          "output_type": "execute_result",
          "data": {
            "text/plain": [
              "3"
            ]
          },
          "metadata": {
            "tags": []
          },
          "execution_count": 13
        }
      ]
    },
    {
      "cell_type": "code",
      "metadata": {
        "id": "qdClasPg419B",
        "outputId": "ddd2946a-2280-4870-f763-457146251532",
        "colab": {
          "base_uri": "https://localhost:8080/",
          "height": 34
        }
      },
      "source": [
        "# Lists can contain anything, even other lists\n",
        "L = [0.016, [1, 2, 3], 'PDMO']\n",
        "L"
      ],
      "execution_count": 14,
      "outputs": [
        {
          "output_type": "execute_result",
          "data": {
            "text/plain": [
              "[0.016, [1, 2, 3], 'PDMO']"
            ]
          },
          "metadata": {
            "tags": []
          },
          "execution_count": 14
        }
      ]
    },
    {
      "cell_type": "code",
      "metadata": {
        "id": "7c8_BZmt419H",
        "outputId": "5c532fc4-b3e7-4a6f-f50b-d380f9bc184a",
        "colab": {
          "base_uri": "https://localhost:8080/",
          "height": 50
        }
      },
      "source": [
        "# Accessing individual elements with brackets []\n",
        "# NOTE! Python uses zero-based indexing\n",
        "\n",
        "# first element\n",
        "print(L[0])\n",
        "\n",
        "# last element\n",
        "print(L[-1])"
      ],
      "execution_count": 15,
      "outputs": [
        {
          "output_type": "stream",
          "text": [
            "0.016\n",
            "PDMO\n"
          ],
          "name": "stdout"
        }
      ]
    },
    {
      "cell_type": "markdown",
      "metadata": {
        "id": "k9Osml5J419N"
      },
      "source": [
        "> ### <font color='steelblue'>**Exercise 1**: List basics</font>\n",
        "(Note: You can add a new cell by placing the cursor between any two cells and clicking \"+ Code\" or \"+ Text\")\n",
        "1. Make a Python list containing five different numbers\n",
        "2. Store the list in variable called 'L'\n",
        "3. Print the length of the list\n",
        "4. Print the middle element\n",
        "5. Print the last element"
      ]
    },
    {
      "cell_type": "code",
      "metadata": {
        "id": "nghJBA35419Q",
        "outputId": "4e24b2e2-05ce-4a92-f6d1-27d790e1577a",
        "colab": {
          "base_uri": "https://localhost:8080/",
          "height": 34
        }
      },
      "source": [
        "# Slicing lists\n",
        "\n",
        "# pos: 0    1    2    3    4\n",
        "#      |    |    |    |    |\n",
        "L =     ['a', 'b', 'c', 'd', 'e']\n",
        "\n",
        "# first index included in slice, last index is not\n",
        "print(L[1:3])"
      ],
      "execution_count": 16,
      "outputs": [
        {
          "output_type": "stream",
          "text": [
            "['b', 'c']\n"
          ],
          "name": "stdout"
        }
      ]
    },
    {
      "cell_type": "code",
      "metadata": {
        "id": "v0VhL1cb419Z"
      },
      "source": [
        "# Slicing from the beginning\n",
        "print(L[:3])"
      ],
      "execution_count": null,
      "outputs": []
    },
    {
      "cell_type": "code",
      "metadata": {
        "id": "5nD2G11W419g"
      },
      "source": [
        "# Slicing until the end\n",
        "print(L[2:])"
      ],
      "execution_count": null,
      "outputs": []
    },
    {
      "cell_type": "markdown",
      "metadata": {
        "collapsed": true,
        "id": "7fKBlMrD419k"
      },
      "source": [
        "### Comparison with 1-based indexing (Matlab-slicing as example)\n",
        "\n",
        "> First 3 elements\n",
        "* Matlab: ``A(1:3)``\n",
        "* Python: ``A[:3]``\n",
        "\n",
        "> Last 3 elements\n",
        "* Matlab: ``A(end-2:3)``\n",
        "* Python: ``A[-3:]``"
      ]
    },
    {
      "cell_type": "code",
      "metadata": {
        "id": "r5OPwfBJ419l"
      },
      "source": [
        "# Adding lists is straighforward\n",
        "\n",
        "L1 = [4, 6, 8]\n",
        "L2 = [10, 20, 30, 40]\n",
        "\n",
        "L = L1 + L2\n",
        "L"
      ],
      "execution_count": null,
      "outputs": []
    },
    {
      "cell_type": "code",
      "metadata": {
        "id": "E78skfzoBjYN"
      },
      "source": [
        "# Adding elements to a list\n",
        "\n",
        "L1 = [4, 6, 8]\n",
        "L1.append(10)\n",
        "L1"
      ],
      "execution_count": null,
      "outputs": []
    },
    {
      "cell_type": "markdown",
      "metadata": {
        "id": "LQLrhLxg419p"
      },
      "source": [
        "> #### <font color='steelblue'>**Exercise 2**: Slicing and combining lists</font>\n",
        "1. Make a list with 6 elements: 3 integers and 3 floats\n",
        "2. Make a new list called 'first2' by slicing the __first two__ elements in the original list\n",
        "3. Make a new list called 'last2' by slicing the __last two__ elements in the original list\n",
        "4. Combine 'first2' and 'last2' to form a new list (with 4 elements)\n",
        "3. Print the new list to the screen"
      ]
    },
    {
      "cell_type": "code",
      "metadata": {
        "id": "9WK6b4eZ419q"
      },
      "source": [
        "# Append an element to list\n",
        "\n",
        "L = [10, 5, 8]\n",
        "\n",
        "# append inserts an element at the end of the list\n",
        "L.append(4)\n",
        "L"
      ],
      "execution_count": null,
      "outputs": []
    },
    {
      "cell_type": "markdown",
      "metadata": {
        "id": "ambVF47r3yBK"
      },
      "source": [
        "----\n",
        "> ### <font color='forestgreen'>**Intermezzo**: Revisiting the DebtPortfolio code</font>"
      ]
    },
    {
      "cell_type": "code",
      "metadata": {
        "id": "GEVBOxtl4QN-"
      },
      "source": [
        "class DebtPortfolio:\n",
        "    def __init__(self):\n",
        "        self.positions = [] # <-- An empty list is created\n",
        "        \n",
        "    def add_position(self, position):\n",
        "        self.positions.append(position) # <-- Elements are added using 'append'\n",
        "        \n",
        "    def get_CFs(self, eval_date):\n",
        "        CFs = [p.bond.get_CFs(eval_date) * p.amount for p in self.positions]\n",
        "        df = pd.concat(CFs, axis=1)\n",
        "        df = df.fillna(value=0)\n",
        "        return df"
      ],
      "execution_count": null,
      "outputs": []
    },
    {
      "cell_type": "markdown",
      "metadata": {
        "id": "WyKCnz_c4mfi"
      },
      "source": [
        "----\n",
        "#### Continuing with list methods"
      ]
    },
    {
      "cell_type": "code",
      "metadata": {
        "id": "BzMBRV05419t"
      },
      "source": [
        "# Insert (before a specified index)\n",
        "L = ['A', 'C', 'D']\n",
        "L.insert(0, 'X') # 0 here means before index 0, i.e. as the first element\n",
        "L"
      ],
      "execution_count": null,
      "outputs": []
    },
    {
      "cell_type": "code",
      "metadata": {
        "id": "sYZtqM1xB5Kn"
      },
      "source": [
        "L = ['A', 'C', 'D']\n",
        "L.insert(1, 'X')\n",
        "L"
      ],
      "execution_count": null,
      "outputs": []
    },
    {
      "cell_type": "code",
      "metadata": {
        "id": "qWO8VLry419x"
      },
      "source": [
        "# Use 'pop' to return and remove an element \n",
        "\n",
        "# pop(index), where parameter 'index' defaults to the last item \n",
        "L.pop()"
      ],
      "execution_count": null,
      "outputs": []
    },
    {
      "cell_type": "code",
      "metadata": {
        "id": "9FeSGhL3419z"
      },
      "source": [
        "L"
      ],
      "execution_count": null,
      "outputs": []
    },
    {
      "cell_type": "code",
      "metadata": {
        "id": "2jbAsIFS4192"
      },
      "source": [
        "L = ['A', 'B', 'C', 'D']\n",
        "L.remove('A') # Remove (first occurence only) without returning anything"
      ],
      "execution_count": null,
      "outputs": []
    },
    {
      "cell_type": "code",
      "metadata": {
        "id": "VV0Ir1U_4195"
      },
      "source": [
        "L"
      ],
      "execution_count": null,
      "outputs": []
    },
    {
      "cell_type": "code",
      "metadata": {
        "id": "IVch969N4198"
      },
      "source": [
        "# Check if an element is contained in the list\n",
        "'D' in L"
      ],
      "execution_count": null,
      "outputs": []
    },
    {
      "cell_type": "code",
      "metadata": {
        "id": "2ntQwKOc41-G"
      },
      "source": [
        "# Reversing lists \n",
        "\n",
        "# in-place\n",
        "L.reverse()\n",
        "L"
      ],
      "execution_count": null,
      "outputs": []
    },
    {
      "cell_type": "code",
      "metadata": {
        "id": "MguNfJkI41-K"
      },
      "source": [
        "# Reversing but keeping list itself unchanged\n",
        "L = range(20)\n",
        "print(L)\n",
        "print(L[::-1]) # Slices are always copies"
      ],
      "execution_count": null,
      "outputs": []
    },
    {
      "cell_type": "code",
      "metadata": {
        "id": "HR2vyNr541-N"
      },
      "source": [
        "# Sorting lists\n",
        "\n",
        "# Sorting in-place (i.e. the original list is modified)\n",
        "print(L.sort())\n",
        "print(L)\n",
        "print(L.sort(reverse=True))\n",
        "print(L)"
      ],
      "execution_count": null,
      "outputs": []
    },
    {
      "cell_type": "code",
      "metadata": {
        "id": "nHmi3D-m41-V"
      },
      "source": [
        "# Returning a sorted copy of the list\n",
        "L = [5, 22, 3, 1, 4]\n",
        "print(sorted(L))\n",
        "print(sorted(L, reverse=True))"
      ],
      "execution_count": null,
      "outputs": []
    },
    {
      "cell_type": "code",
      "metadata": {
        "id": "covPr_ev41-Z"
      },
      "source": [
        "# The list itself remains unchanged when using 'sorted'\n",
        "L"
      ],
      "execution_count": null,
      "outputs": []
    },
    {
      "cell_type": "markdown",
      "metadata": {
        "id": "IS_IbTQF41-c"
      },
      "source": [
        "> ### <font color='steelblue'>**Exercise 3**: Sorting lists</font>\n",
        "This is an exercise in sorting lists\n",
        "1. Create an unsorted list of 10 numbers and call it 'my_list' \n",
        "2. Print the list\n",
        "3. Print the list in reversed order\n",
        "3. Make a new list containing the numbers of the original list sorted in __ascending__ order"
      ]
    },
    {
      "cell_type": "code",
      "metadata": {
        "id": "S8o02xsD41-c"
      },
      "source": [
        "L = [4,5,3,2,6,9,7,8,9,10]\n",
        "\n",
        "print(L)\n",
        "L.reverse()\n",
        "print(L)\n",
        "\n",
        "L2 = sorted(L)\n",
        "L2"
      ],
      "execution_count": null,
      "outputs": []
    },
    {
      "cell_type": "code",
      "metadata": {
        "id": "xKPykeap41-h"
      },
      "source": [
        "L3 = sorted(L, reverse=True)\n",
        "L3"
      ],
      "execution_count": null,
      "outputs": []
    },
    {
      "cell_type": "markdown",
      "metadata": {
        "id": "jZvCAXaF41-n"
      },
      "source": [
        "### copy vs. reference"
      ]
    },
    {
      "cell_type": "code",
      "metadata": {
        "id": "LW2RKrW141-n"
      },
      "source": [
        "# Simple assignment creates a reference: A and B now points to the same thing!\n",
        "A = [2, 4, 6]\n",
        "B = A\n",
        "B.append(99)\n",
        "print(B)\n",
        "print(A)"
      ],
      "execution_count": null,
      "outputs": []
    },
    {
      "cell_type": "code",
      "metadata": {
        "id": "OnNwzm2j41-q"
      },
      "source": [
        "# If you really want a copy, use [:] instead\n",
        "A = [2, 4, 6]\n",
        "B = A[:]\n",
        "B.append(99)\n",
        "print(B)\n",
        "print(A)"
      ],
      "execution_count": null,
      "outputs": []
    },
    {
      "cell_type": "markdown",
      "metadata": {
        "id": "BIDZD-0141-x"
      },
      "source": [
        "## **Strings**: Datatype 'str'"
      ]
    },
    {
      "cell_type": "code",
      "metadata": {
        "id": "_SXapDPe41-y"
      },
      "source": [
        "# Multiple types of quotes can be used\n",
        "a = 'Isaac'\n",
        "b = \"Newton\"  # <<<< Note: double quotes\n",
        "print(a)\n",
        "print(type(a))\n",
        "print(b)\n",
        "print(type(b))"
      ],
      "execution_count": null,
      "outputs": []
    },
    {
      "cell_type": "code",
      "metadata": {
        "id": "AHJC_X4441-2"
      },
      "source": [
        "d = \"Moody's\"\n",
        "print(d)"
      ],
      "execution_count": null,
      "outputs": []
    },
    {
      "cell_type": "code",
      "metadata": {
        "id": "9kQF6Kok41-6"
      },
      "source": [
        "# Use \"\"\"...\"\"\" for long text spanning multiple lines\n",
        "# Note also the use of \"\\\" to break lines (but continue the statement)\n",
        "\n",
        "long_text = \"\"\"With 189 member countries, staff from more than 170 countries, \\\n",
        "and offices in over 130 locations, the World Bank Group is a unique global \\\n",
        "partnership: five institutions working for sustainable solutions that reduce \\\n",
        "poverty and build shared prosperity in developing countries.\"\"\"\n",
        "\n",
        "print(long_text)"
      ],
      "execution_count": null,
      "outputs": []
    },
    {
      "cell_type": "markdown",
      "metadata": {
        "collapsed": false,
        "id": "B0GZb77M41--"
      },
      "source": [
        "### Strings behave a lot like lists"
      ]
    },
    {
      "cell_type": "code",
      "metadata": {
        "id": "RBJrqUjy41--"
      },
      "source": [
        "# Slicing\n",
        "\n",
        "print(a)\n",
        "print(a[:2])   # First two characters\n",
        "print(a[-2:])  # Last two characters"
      ],
      "execution_count": null,
      "outputs": []
    },
    {
      "cell_type": "code",
      "metadata": {
        "id": "NMzTaW8b41_G"
      },
      "source": [
        "# Adding strings\n",
        "\n",
        "print(a + b)\n",
        "print(a + ' ' + b)"
      ],
      "execution_count": null,
      "outputs": []
    },
    {
      "cell_type": "code",
      "metadata": {
        "id": "4KiM6G_l41_L"
      },
      "source": [
        "# Splitting (turn string into a list)\n",
        "\n",
        "words = long_text.split()\n",
        "print(words)\n",
        "print()\n",
        "print(type(words))\n",
        "len(words)"
      ],
      "execution_count": null,
      "outputs": []
    },
    {
      "cell_type": "code",
      "metadata": {
        "id": "SXp-lDNT41_O"
      },
      "source": [
        "# Example: chaining of string operations\n",
        "\n",
        "# Task: extract the domain from an arbitrary email address\n",
        "\n",
        "x = 'billgates@microsoft.com'\n",
        "\n",
        "x.split('@')[-1].split('.')[0]"
      ],
      "execution_count": null,
      "outputs": []
    },
    {
      "cell_type": "code",
      "metadata": {
        "id": "YkjFLbVK41_S"
      },
      "source": [
        "# Step-by-step\n",
        "\n",
        "# Split email in first and second part\n",
        "print(x.split('@'))"
      ],
      "execution_count": null,
      "outputs": []
    },
    {
      "cell_type": "code",
      "metadata": {
        "id": "ihO_G_x241_W"
      },
      "source": [
        "# get last element in list\n",
        "x.split('@')[-1]"
      ],
      "execution_count": null,
      "outputs": []
    },
    {
      "cell_type": "code",
      "metadata": {
        "id": "HE4KTdoX41_Z"
      },
      "source": [
        "# Split into domain and country code\n",
        "x.split('@')[-1].split('.')"
      ],
      "execution_count": null,
      "outputs": []
    },
    {
      "cell_type": "code",
      "metadata": {
        "id": "xiewPIU941_e"
      },
      "source": [
        "# Get the first element, i.e. the domain\n",
        "x.split('@')[-1].split('.')[0]"
      ],
      "execution_count": null,
      "outputs": []
    },
    {
      "cell_type": "code",
      "metadata": {
        "id": "ins2snLQ41_k"
      },
      "source": [
        "# Alternative to chaining would be unpleasant nested function calls like this\n",
        "str.split(str.split(x, '@')[-1], '.')[0]"
      ],
      "execution_count": null,
      "outputs": []
    },
    {
      "cell_type": "markdown",
      "metadata": {
        "id": "9FY1yxDf41_n"
      },
      "source": [
        "####<font color='steelblue'>**Exercise 4** (Optional): Extracting information from strings</font>\n",
        "\n",
        "U.S. social security numbers have the form \"AAA-GG-SSSS\", where AAA is an area code, GG is a group code and SSSS is a serial code.  \n",
        "\n",
        "Write some code that can extract the group code (i.e. number in the middle) from a social security number such '409-52-2002' in two different ways:\n",
        "* Method 1: use slicing directly on the string\n",
        "* Method 2: use the 'split' function\n",
        "\n",
        "Hint: Start by declaring a string variable, s,  containing the social security number.\n",
        "</blockquote>"
      ]
    },
    {
      "cell_type": "markdown",
      "metadata": {
        "id": "OS_xhXAt41_p"
      },
      "source": [
        "## **Dates**: Datatype 'date' and 'datetime'"
      ]
    },
    {
      "cell_type": "code",
      "metadata": {
        "id": "A3NAMU4V41_q"
      },
      "source": [
        "from datetime import date, datetime"
      ],
      "execution_count": null,
      "outputs": []
    },
    {
      "cell_type": "code",
      "metadata": {
        "id": "8GQzbtiv41_s"
      },
      "source": [
        "dt = date(2015, 2, 4)\n",
        "dt"
      ],
      "execution_count": null,
      "outputs": []
    },
    {
      "cell_type": "code",
      "metadata": {
        "id": "BfwvCbw941_w"
      },
      "source": [
        "# Print shows dates in a human-friendly format\n",
        "print(dt)"
      ],
      "execution_count": null,
      "outputs": []
    },
    {
      "cell_type": "code",
      "metadata": {
        "id": "UoV-9LEL41_3"
      },
      "source": [
        "# A date have properties such as day, month, year\n",
        "type(dt)\n",
        "dt.month"
      ],
      "execution_count": null,
      "outputs": []
    },
    {
      "cell_type": "code",
      "metadata": {
        "id": "bZmzMoYL41_6"
      },
      "source": [
        "# Subtracting dates yields a 'timedelta' object\n",
        "date(2016, 2, 4) - date(2016, 1, 13)"
      ],
      "execution_count": null,
      "outputs": []
    },
    {
      "cell_type": "code",
      "metadata": {
        "id": "QH2NZO-541_-"
      },
      "source": [
        "td = (date(2016, 2, 4) - date(2016, 1, 13))\n",
        "print(type(td))"
      ],
      "execution_count": null,
      "outputs": []
    },
    {
      "cell_type": "code",
      "metadata": {
        "id": "g26hR_YZ42AB"
      },
      "source": [
        "# We can e.g. extract number of days from this object\n",
        "td.days"
      ],
      "execution_count": null,
      "outputs": []
    },
    {
      "cell_type": "code",
      "metadata": {
        "id": "lsCJAHAs42AK"
      },
      "source": [
        "# Converting from date to string (see http://strftime.org/)\n",
        "dt = date(2020, 10, 20)\n",
        "print(dt.strftime(\"%Y-%m-%d\"))\n",
        "print(dt.strftime(\"%d %B %Y\"))"
      ],
      "execution_count": null,
      "outputs": []
    },
    {
      "cell_type": "code",
      "metadata": {
        "id": "8-oRXIu142AN"
      },
      "source": [
        "# Converting from string to data\n",
        "s = \"20 October 2020 (Tuesday)\"\n",
        "dt = datetime.strptime(s, \"%d %B %Y (%A)\")\n",
        "dt"
      ],
      "execution_count": null,
      "outputs": []
    },
    {
      "cell_type": "markdown",
      "metadata": {
        "id": "HW66C3Ko42AP"
      },
      "source": [
        "### <font color='steelblue'>Exercise 5: Wrangling dates</font>\n",
        ">Turn a string into a Python datetime datatype \n",
        "\n",
        "Write code that converts the string '20 Oct 2020, 13:00' into a datatime"
      ]
    },
    {
      "cell_type": "markdown",
      "metadata": {
        "id": "Ns5I9zX742AV"
      },
      "source": [
        "## **String substitution** using \"f-strings\"\n",
        "\n",
        "We often need to insert some values into a string, e.g. for forming plot legends dynamically etc.\n",
        "Let's generate text from some bond data."
      ]
    },
    {
      "cell_type": "code",
      "metadata": {
        "id": "lgcqb7H5-l0X"
      },
      "source": [
        "class Bond:\n",
        "    def __init__(self, maturity, coupon, symbol):\n",
        "        self.maturity = maturity\n",
        "        self.coupon = coupon\n",
        "        self.symbol = symbol"
      ],
      "execution_count": null,
      "outputs": []
    },
    {
      "cell_type": "code",
      "metadata": {
        "id": "hSmc6Mvj-lmZ"
      },
      "source": [
        "# Create an instance of a specific bond\n",
        "b = Bond(maturity=date(2029, 12, 17), coupon=0.016, symbol=\"LB29DA\")"
      ],
      "execution_count": null,
      "outputs": []
    },
    {
      "cell_type": "code",
      "metadata": {
        "id": "1gcDfrMO_Sal"
      },
      "source": [
        "bond_text = f\"The bond {b.symbol} matures on {b.maturity:%d %B %Y} and has a coupon of {100 * b.coupon:.2f}%\""
      ],
      "execution_count": null,
      "outputs": []
    },
    {
      "cell_type": "code",
      "metadata": {
        "id": "RJsUm-qRD5tq"
      },
      "source": [
        "print(bond_text)"
      ],
      "execution_count": null,
      "outputs": []
    }
  ]
}